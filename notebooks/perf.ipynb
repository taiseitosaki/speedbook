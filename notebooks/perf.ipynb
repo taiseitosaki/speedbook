{
 "cells": [
  {
   "cell_type": "markdown",
   "metadata": {},
   "source": [
    "8.2.2 最初に、PythonがLinux Perfに対応しているかどうかを調べる必要がある。"
   ]
  },
  {
   "cell_type": "code",
   "execution_count": 1,
   "metadata": {},
   "outputs": [
    {
     "name": "stdout",
     "output_type": "stream",
     "text": [
      "\tPY_HAVE_PERF_TRAMPOLINE = \"1\"\n"
     ]
    }
   ],
   "source": [
    "!python -m sysconfig | grep HAVE_PERF_TRAMPOLINE"
   ]
  },
  {
   "cell_type": "markdown",
   "metadata": {},
   "source": [
    "上記のようにPY_HAVE_PERF_TRAMPOLINE = \"1\" と出力されればOK。基本的にはPython 3.12以上かららしい。<br>\n",
    "参考：https://docs.python.org/3/howto/perf_profiling.html#python-support-for-the-linux-perf-profiler"
   ]
  },
  {
   "cell_type": "markdown",
   "metadata": {},
   "source": [
    "続いて、ユーザー権限でカーネル解析ができるようにする。"
   ]
  },
  {
   "cell_type": "code",
   "execution_count": null,
   "metadata": {
    "vscode": {
     "languageId": "latex"
    }
   },
   "outputs": [],
   "source": [
    "!echo 0 | sudo tee  /proc/sys/kernel/perf_event_paranoid > /dev/null"
   ]
  },
  {
   "cell_type": "markdown",
   "metadata": {},
   "source": [
    "これで以下の実行ができる。"
   ]
  },
  {
   "cell_type": "code",
   "execution_count": 2,
   "metadata": {
    "vscode": {
     "languageId": "latex"
    }
   },
   "outputs": [
    {
     "name": "stdout",
     "output_type": "stream",
     "text": [
      "WARNING: Kernel address maps (/proc/{kallsyms,modules}) are restricted,\n",
      "check /proc/sys/kernel/kptr_restrict and /proc/sys/kernel/perf_event_paranoid.\n",
      "\n",
      "Samples in kernel functions may not be resolved if a suitable vmlinux\n",
      "file is not found in the buildid cache or in the vmlinux path.\n",
      "\n",
      "Samples in kernel modules won't be resolved at all.\n",
      "\n",
      "If some relocation was applied (e.g. kexec) symbols may be misresolved\n",
      "even with a suitable vmlinux or kallsyms file.\n",
      "\n",
      "Couldn't record kernel reference relocation symbol\n",
      "Symbol resolution may be skewed if relocation was used (e.g. kexec).\n",
      "Check /proc/kallsyms permission or run as root.\n",
      "/home/tosaki/workdir/speedbook/notebooks/models.py:26: FutureWarning: You are using `torch.load` with `weights_only=False` (the current default value), which uses the default pickle module implicitly. It is possible to construct malicious pickle data which will execute arbitrary code during unpickling (See https://github.com/pytorch/pytorch/blob/main/SECURITY.md#untrusted-models for more details). In a future release, the default value for `weights_only` will be flipped to `True`. This limits the functions that could be executed during unpickling. Arbitrary objects will no longer be allowed to be loaded via this mode unless they are explicitly allowlisted by the user via `torch.serialization.add_safe_globals`. We recommend you start setting `weights_only=True` for any use case where you don't have full control of the loaded file. Please open an issue on GitHub for any issues related to this experimental feature.\n",
      "  model.load_state_dict(torch.load(filename))\n",
      "Files already downloaded and verified\n",
      "Accuracy: 0.9357\n",
      "[ perf record: Woken up 2 times to write data ]\n",
      "[ perf record: Captured and wrote 1.042 MB perf.data (22030 samples) ]\n"
     ]
    }
   ],
   "source": [
    "!perf record python eval_cifar10.py"
   ]
  },
  {
   "cell_type": "code",
   "execution_count": 3,
   "metadata": {
    "vscode": {
     "languageId": "latex"
    }
   },
   "outputs": [
    {
     "name": "stdout",
     "output_type": "stream",
     "text": [
      "\u001b[2J\u001b[?47l\u001b8                                                                                                                        \u001b[2;1H                                                                                \u001b[3;1H                                                                                \u001b[4;1H                                                                                \u001b[5;1H                                                                                \u001b[6;1H                                                                                \u001b[7;1H                                                                                \u001b[8;1H                                                                                \u001b[9;1H                                                                                \u001b[10;1H                                                                                \u001b[11;1H                                                                                \u001b[12;1H                                                                                \u001b[13;1H                                                                                \u001b[14;1H                                                                                \u001b[15;1H                                                                                \u001b[16;1H                                                                                \u001b[17;1H                                                                                \u001b[18;1H                                                                                \u001b[19;1H                                                                                \u001b[20;1H                                                                                \u001b[21;1H                                                                                \u001b[22;1H                                                                                \u001b[23;1H                                                                                \u001b[24;1H                                                                               \u001b[24;79H\u001b[4h \u001b[4l\u001b[1;24r\u001b[H\u001b[2J\u001b[1;1H                                                                                \u001b[2;1H                                                                                \u001b[3;1H                                                                                \u001b[4;1H                                                                                \u001b[5;1H                                                                                \u001b[6;1H                                                                                \u001b[7;1H                                                                                \u001b[8;1H                                                                                \u001b[9;1H                                                                                \u001b[10;1H                                                                                \u001b[11;1H┌Processing events... [13K/1065K]──────────────────────────────────────────────┐\u001b[12;1H│\u001b[30m\u001b[43m \u001b[m\u001b[37m\u001b[40m                                                                             │\u001b[13;1H└──────────────────────────────────────────────────────────────────────────────┘\u001b[14;1H                                                                                \u001b[15;1H                                                                                \u001b[16;1H                                                                                \u001b[17;1H                                                                                \u001b[18;1H                                                                                \u001b[19;1H                                                                                \u001b[20;1H                                                                                \u001b[21;1H                                                                                \u001b[22;1H                                                                                \u001b[23;1H                                                                                \u001b[24;1H                                                                               \u001b[24;79H\u001b[4h \u001b[4l\u001b[12;3H\u001b[11;24H27\u001b[12;3H\u001b[30m\u001b[43m \u001b[76C\u001b[12;4H\u001b[11;24H\u001b[m\u001b[37m\u001b[40m41\u001b[12;4H\u001b[30m\u001b[43m \u001b[75C\u001b[12;5H\u001b[11;24H\u001b[m\u001b[37m\u001b[40m54\u001b[12;5H\u001b[30m\u001b[43m \u001b[74C\u001b[12;6H\u001b[11;24H\u001b[m\u001b[37m\u001b[40m68\u001b[12;6H\u001b[30m\u001b[43m \u001b[73C\u001b[12;7H\u001b[11;24H\u001b[m\u001b[37m\u001b[40m81\u001b[12;7H\u001b[11;24H95\u001b[12;7H\u001b[30m\u001b[43m  \u001b[71C\u001b[12;9H\u001b[11;24H\u001b[m\u001b[37m\u001b[40m109K/1065K]\u001b[12;9H\u001b[30m\u001b[43m \u001b[70C\u001b[12;10H\u001b[11;25H\u001b[m\u001b[37m\u001b[40m22\u001b[12;10H\u001b[30m\u001b[43m \u001b[69C\u001b[12;11H\u001b[11;25H\u001b[m\u001b[37m\u001b[40m36\u001b[12;11H\u001b[30m\u001b[43m \u001b[68C\u001b[12;12H\u001b[11;25H\u001b[m\u001b[37m\u001b[40m50\u001b[12;12H\u001b[30m\u001b[43m \u001b[67C\u001b[12;13H\u001b[11;25H\u001b[m\u001b[37m\u001b[40m63\u001b[12;13H\u001b[30m\u001b[43m \u001b[66C\u001b[12;14H\u001b[11;25H\u001b[m\u001b[37m\u001b[40m77\u001b[12;14H\u001b[11;25H91\u001b[12;14H\u001b[30m\u001b[43m \u001b[65C\u001b[12;15H\u001b[11;24H\u001b[m\u001b[37m\u001b[40m204\u001b[12;15H\u001b[30m\u001b[43m  \u001b[63C\u001b[12;17H\u001b[11;25H\u001b[m\u001b[37m\u001b[40m18\u001b[12;17H\u001b[30m\u001b[43m \u001b[62C\u001b[12;18H\u001b[11;25H\u001b[m\u001b[37m\u001b[40m32\u001b[12;18H\u001b[30m\u001b[43m \u001b[61C\u001b[12;19H\u001b[11;25H\u001b[m\u001b[37m\u001b[40m45\u001b[12;19H\u001b[30m\u001b[43m \u001b[60C\u001b[12;20H\u001b[11;25H\u001b[m\u001b[37m\u001b[40m59\u001b[12;20H\u001b[30m\u001b[43m \u001b[59C\u001b[12;21H\u001b[11;25H\u001b[m\u001b[37m\u001b[40m73\u001b[12;21H\u001b[30m\u001b[43m \u001b[58C\u001b[12;22H\u001b[11;25H\u001b[m\u001b[37m\u001b[40m86\u001b[12;22H\u001b[11;24H300\u001b[12;22H\u001b[30m\u001b[43m  \u001b[56C\u001b[12;24H\u001b[11;25H\u001b[m\u001b[37m\u001b[40m14\u001b[12;24H\u001b[11;25H27\u001b[12;24H\u001b[30m\u001b[43m  \u001b[54C\u001b[12;26H\u001b[11;25H\u001b[m\u001b[37m\u001b[40m41\u001b[12;26H\u001b[11;25H55\u001b[12;26H\u001b[30m\u001b[43m  \u001b[52C\u001b[12;28H\u001b[11;25H\u001b[m\u001b[37m\u001b[40m68\u001b[12;28H\u001b[11;25H82\u001b[12;28H\u001b[30m\u001b[43m  \u001b[50C\u001b[12;30H\u001b[11;25H\u001b[m\u001b[37m\u001b[40m96\u001b[12;30H\u001b[11;24H409\u001b[12;30H\u001b[30m\u001b[43m  \u001b[48C\u001b[12;32H\u001b[11;25H\u001b[m\u001b[37m\u001b[40m23\u001b[12;32H\u001b[30m\u001b[43m \u001b[47C\u001b[12;33H\u001b[11;25H\u001b[m\u001b[37m\u001b[40m37\u001b[12;33H\u001b[11;25H50\u001b[12;33H\u001b[30m\u001b[43m  \u001b[45C\u001b[12;35H\u001b[11;25H\u001b[m\u001b[37m\u001b[40m64\u001b[12;35H\u001b[11;25H78\u001b[12;35H\u001b[30m\u001b[43m  \u001b[43C\u001b[12;37H\u001b[11;25H\u001b[m\u001b[37m\u001b[40m91\u001b[12;37H\u001b[11;24H505\u001b[12;37H\u001b[30m\u001b[43m  \u001b[41C\u001b[12;39H\u001b[11;25H\u001b[m\u001b[37m\u001b[40m19\u001b[12;39H\u001b[30m\u001b[43m \u001b[40C\u001b[12;40H\u001b[11;25H\u001b[m\u001b[37m\u001b[40m32\u001b[12;40H\u001b[11;25H46\u001b[12;40H\u001b[30m\u001b[43m  \u001b[38C\u001b[12;42H\u001b[11;25H\u001b[m\u001b[37m\u001b[40m60\u001b[12;42H\u001b[11;25H73\u001b[12;42H\u001b[30m\u001b[43m  \u001b[36C\u001b[12;44H\u001b[11;25H\u001b[m\u001b[37m\u001b[40m87\u001b[12;44H\u001b[11;24H601\u001b[12;44H\u001b[30m\u001b[43m \u001b[35C\u001b[12;45H\u001b[11;25H\u001b[m\u001b[37m\u001b[40m14\u001b[12;45H\u001b[30m\u001b[43m \u001b[34C\u001b[12;46H\u001b[11;25H\u001b[m\u001b[37m\u001b[40m28\u001b[12;46H\u001b[30m\u001b[43m \u001b[33C\u001b[12;47H\u001b[11;25H\u001b[m\u001b[37m\u001b[40m42\u001b[12;47H\u001b[30m\u001b[43m  \u001b[31C\u001b[12;49H\u001b[11;25H\u001b[m\u001b[37m\u001b[40m55\u001b[12;49H\u001b[11;25H69\u001b[12;49H\u001b[30m\u001b[43m  \u001b[29C\u001b[12;51H\u001b[11;25H\u001b[m\u001b[37m\u001b[40m83\u001b[12;51H\u001b[11;25H96\u001b[12;51H\u001b[30m\u001b[43m \u001b[28C\u001b[12;52H\u001b[11;24H\u001b[m\u001b[37m\u001b[40m710\u001b[12;52H\u001b[30m\u001b[43m \u001b[27C\u001b[12;53H\u001b[11;25H\u001b[m\u001b[37m\u001b[40m24\u001b[12;53H\u001b[30m\u001b[43m \u001b[26C\u001b[12;54H\u001b[11;25H\u001b[m\u001b[37m\u001b[40m37\u001b[12;54H\u001b[30m\u001b[43m \u001b[25C\u001b[12;55H\u001b[11;25H\u001b[m\u001b[37m\u001b[40m51\u001b[12;55H\u001b[30m\u001b[43m \u001b[24C\u001b[12;56H\u001b[11;25H\u001b[m\u001b[37m\u001b[40m65\u001b[12;56H\u001b[30m\u001b[43m \u001b[23C\u001b[12;57H\u001b[11;25H\u001b[m\u001b[37m\u001b[40m78\u001b[12;57H\u001b[30m\u001b[43m  \u001b[21C\u001b[12;59H\u001b[11;25H\u001b[m\u001b[37m\u001b[40m92\u001b[12;59H\u001b[11;24H806\u001b[12;59H\u001b[30m\u001b[43m \u001b[20C\u001b[12;60H\u001b[11;25H\u001b[m\u001b[37m\u001b[40m19\u001b[12;60H\u001b[30m\u001b[43m \u001b[19C\u001b[12;61H\u001b[11;25H\u001b[m\u001b[37m\u001b[40m33\u001b[12;61H\u001b[30m\u001b[43m \u001b[18C\u001b[12;62H\u001b[11;25H\u001b[m\u001b[37m\u001b[40m47\u001b[12;62H\u001b[30m\u001b[43m \u001b[17C\u001b[12;63H\u001b[11;25H\u001b[m\u001b[37m\u001b[40m60\u001b[12;63H\u001b[30m\u001b[43m \u001b[16C\u001b[12;64H\u001b[11;25H\u001b[m\u001b[37m\u001b[40m74\u001b[12;64H\u001b[30m\u001b[43m \u001b[15C\u001b[12;65H\u001b[11;25H\u001b[m\u001b[37m\u001b[40m88\u001b[12;65H\u001b[30m\u001b[43m \u001b[14C\u001b[12;66H\u001b[11;24H\u001b[m\u001b[37m\u001b[40m901\u001b[12;66H\u001b[30m\u001b[43m \u001b[13C\u001b[12;67H\u001b[11;25H\u001b[m\u001b[37m\u001b[40m15\u001b[12;67H\u001b[30m\u001b[43m \u001b[12C\u001b[12;68H\u001b[11;25H\u001b[m\u001b[37m\u001b[40m28\u001b[12;68H\u001b[30m\u001b[43m \u001b[11C\u001b[12;69H\u001b[11;25H\u001b[m\u001b[37m\u001b[40m42\u001b[12;69H\u001b[30m\u001b[43m \u001b[10C\u001b[12;70H\u001b[11;25H\u001b[m\u001b[37m\u001b[40m56\u001b[12;70H\u001b[30m\u001b[43m \u001b[9C\u001b[12;71H\u001b[11;25H\u001b[m\u001b[37m\u001b[40m69\u001b[12;71H\u001b[30m\u001b[43m \u001b[8C\u001b[12;72H\u001b[11;25H\u001b[m\u001b[37m\u001b[40m83\u001b[12;72H\u001b[30m\u001b[43m \u001b[7C\u001b[12;73H\u001b[11;25H\u001b[m\u001b[37m\u001b[40m97\u001b[12;73H\u001b[30m\u001b[43m \u001b[6C\u001b[12;74H\u001b[11;24H\u001b[m\u001b[37m\u001b[40m1010K/1065K]\u001b[12;74H\u001b[30m\u001b[43m \u001b[5C\u001b[12;75H\u001b[11;26H\u001b[m\u001b[37m\u001b[40m24\u001b[12;75H\u001b[30m\u001b[43m \u001b[m\u001b[37m\u001b[40m    \u001b[12;76H\u001b[11;26H38\u001b[12;76H\u001b[30m\u001b[43m \u001b[m\u001b[37m\u001b[40m   \u001b[12;77H\u001b[11;26H51\u001b[12;77H\u001b[30m\u001b[43m \u001b[m\u001b[37m\u001b[40m  \u001b[12;78H\u001b[11;26H65\u001b[12;78H\u001b[30m\u001b[43m \u001b[m\u001b[37m\u001b[40m\u001b[11;13Htime ordered events...─\u001b[12;2H                                                                              \u001b[12;2H\u001b[30m\u001b[43m \u001b[77C\u001b[12;3H \u001b[76C\u001b[12;4H \u001b[75C\u001b[12;5H \u001b[74C\u001b[12;6H \u001b[73C\u001b[12;7H \u001b[72C\u001b[12;8H \u001b[71C\u001b[12;9H \u001b[70C\u001b[12;10H \u001b[69C\u001b[12;11H \u001b[68C\u001b[12;12H \u001b[67C\u001b[12;13H \u001b[66C\u001b[12;14H \u001b[65C\u001b[12;15H \u001b[64C\u001b[12;16H \u001b[63C\u001b[12;17H \u001b[62C\u001b[12;18H \u001b[61C\u001b[12;19H \u001b[60C\u001b[12;20H \u001b[59C\u001b[12;21H \u001b[58C\u001b[12;22H \u001b[57C\u001b[12;23H \u001b[56C\u001b[12;24H \u001b[55C\u001b[12;25H \u001b[54C\u001b[12;26H \u001b[53C\u001b[12;27H \u001b[52C\u001b[12;28H \u001b[51C\u001b[12;29H \u001b[50C\u001b[12;30H \u001b[49C\u001b[12;31H \u001b[48C\u001b[12;32H \u001b[47C\u001b[12;33H \u001b[46C\u001b[12;34H \u001b[45C\u001b[12;35H \u001b[44C\u001b[12;36H \u001b[43C\u001b[12;37H \u001b[42C\u001b[12;38H \u001b[41C\u001b[12;39H \u001b[40C\u001b[12;40H \u001b[39C\u001b[12;41H \u001b[38C\u001b[12;42H \u001b[37C\u001b[12;43H \u001b[36C\u001b[12;44H \u001b[35C\u001b[12;45H \u001b[34C\u001b[12;46H \u001b[33C\u001b[12;47H \u001b[32C\u001b[12;48H \u001b[31C\u001b[12;49H \u001b[30C\u001b[12;50H \u001b[29C\u001b[12;51H \u001b[28C\u001b[12;52H \u001b[27C\u001b[12;53H \u001b[26C\u001b[12;54H \u001b[25C\u001b[12;55H \u001b[24C\u001b[12;56H \u001b[23C\u001b[12;57H \u001b[22C\u001b[12;58H \u001b[21C\u001b[12;59H \u001b[20C\u001b[12;60H \u001b[19C\u001b[12;61H \u001b[18C\u001b[12;62H \u001b[17C\u001b[12;63H \u001b[16C\u001b[12;64H \u001b[15C\u001b[12;65H \u001b[14C\u001b[12;66H \u001b[13C\u001b[12;67H \u001b[12C\u001b[12;68H \u001b[11C\u001b[12;69H \u001b[10C\u001b[12;70H \u001b[9C\u001b[12;71H \u001b[8C\u001b[12;72H \u001b[7C\u001b[12;73H \u001b[6C\u001b[12;74H \u001b[5C\u001b[12;75H \u001b[m\u001b[37m\u001b[40m    \u001b[12;76H\u001b[30m\u001b[43m \u001b[m\u001b[37m\u001b[40m   \u001b[12;77H\u001b[30m\u001b[43m \u001b[m\u001b[37m\u001b[40m  \u001b[12;78H\u001b[30m\u001b[43m \u001b[m\u001b[37m\u001b[40m\u001b[11;1H                                                                                \u001b[12;1H                                                                                \u001b[13;1H                                                                                \u001b[11;80H\u001b[6;7H┌─Warning:─────────────────────────────────────────────────────────┐\u001b[6C\u001b[7;7H│Kernel address maps (/proc/{kallsyms,modules}) were restricted.   │\u001b[6C\u001b[8;7H│\u001b[66C│\u001b[6C\u001b[9;7H│Check /proc/sys/kernel/kptr_restrict before running 'perf record'.│\u001b[6C\u001b[10;7H│\u001b[66C│\u001b[6C\u001b[11;7H│As no suitable kallsyms nor vmlinux was found, kernel samples\u001b[5C│\u001b[6C\u001b[12;7H│can't be resolved.\u001b[48C│\u001b[6C\u001b[13;7H│\u001b[66C│\u001b[6C\u001b[14;7H│Samples in kernel modules can't be resolved as well.\u001b[14C│\u001b[6C\u001b[15;7H│\u001b[66C│\u001b[6C\u001b[16;7H│\u001b[66C│\u001b[6C\u001b[17;7H│\u001b[66C│\u001b[6C\u001b[18;7H│Press any key...\u001b[50C│\u001b[6C\u001b[19;7H└──────────────────────────────────────────────────────────────────┘\u001b[6C\u001b[18;74H\u001b[11;7H                                                              \u001b[5C \u001b[6C\u001b[12;7H                   \u001b[48C \u001b[6C\u001b[13;7H \u001b[66C \u001b[6C\u001b[11;80H\u001b[24;1H\u001b[m\u001b[m"
     ]
    }
   ],
   "source": [
    "!perf report"
   ]
  },
  {
   "cell_type": "markdown",
   "metadata": {},
   "source": [
    "Python: 3.12.4 <br>\n",
    "Ubuntu 22.04.4 LTS"
   ]
  }
 ],
 "metadata": {
  "kernelspec": {
   "display_name": "torch",
   "language": "python",
   "name": "python3"
  },
  "language_info": {
   "codemirror_mode": {
    "name": "ipython",
    "version": 3
   },
   "file_extension": ".py",
   "mimetype": "text/x-python",
   "name": "python",
   "nbconvert_exporter": "python",
   "pygments_lexer": "ipython3",
   "version": "3.12.4"
  }
 },
 "nbformat": 4,
 "nbformat_minor": 2
}
